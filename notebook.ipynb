{
 "cells": [
  {
   "cell_type": "markdown",
   "id": "251e0353-9c1e-4a4e-9d94-0f013bcf9423",
   "metadata": {
    "tags": []
   },
   "source": [
    "# Tweet Classifier\n",
    "[tweets](https://www.kaggle.com/kazanova/sentiment140)\n"
   ]
  },
  {
   "cell_type": "markdown",
   "id": "e327a1eb-7e2d-4016-8250-0d35d2b9dc7c",
   "metadata": {
    "tags": []
   },
   "source": [
    "# Utilities, Constants"
   ]
  },
  {
   "cell_type": "code",
   "execution_count": 1,
   "id": "eb9a8c95-8aec-4886-a329-7b4eebc4a128",
   "metadata": {
    "tags": []
   },
   "outputs": [],
   "source": [
    "def calculate_percent_missing(in_df):\n",
    "    # function which returns a dataframe indicating what percent of a column is missing\n",
    "    percent_missing = in_df.isnull().sum() * 100 / len(in_df)\n",
    "    return pd.DataFrame({'percent_missing': percent_missing})\n",
    "def summary_of_model(clf, X_train, X_test, y_train, y_test):\n",
    "    from sklearn.model_selection import GridSearchCV\n",
    "    from sklearn.model_selection import KFold, StratifiedKFold, cross_val_score\n",
    "    from sklearn.metrics import classification_report\n",
    "    from sklearn.metrics import accuracy_score, precision_score, recall_score\n",
    "    from sklearn.metrics import confusion_matrix\n",
    "    from sklearn.metrics import (precision_recall_curve, PrecisionRecallDisplay)\n",
    "    # This provides a summary of the model, but without the threshold condition.\n",
    "    # It includes a summary on recall/accuracy on the training and test sets, a visual display of the confusion matrix\n",
    "    # and a plot of the precision-recall curve for a given classifier.\n",
    "    pred_test = clf.predict(X_test)\n",
    "    pred_train = clf.predict(X_train)\n",
    "    print(classification_report(y_test, pred_test))\n",
    "    print('Recall on the training set: {:.2f}'.format(recall_score(y_train, pred_train)))\n",
    "    print('Accuracy on the training set: {:.2f}'.format(accuracy_score(y_train, pred_train)))\n",
    "    print('Recall on the test set: {:.2f}'.format(recall_score(y_test, pred_test)))\n",
    "    print('Accuracy on the test set: {:.2f}'.format(accuracy_score(y_test, pred_test)))\n",
    "    print(confusion_matrix(y_test, pred_test))\n",
    "    _, ax = plt.subplots(figsize=(9,9))\n",
    "    ax = sns.heatmap(confusion_matrix(y_test, pred_test), annot=True, fmt='d', cmap='vlag', annot_kws={\"size\": 40, \"weight\": \"bold\"})  \n",
    "    labels = ['False', 'True']\n",
    "    ax.set_xticklabels(labels, fontsize=25);\n",
    "    ax.set_yticklabels(labels, fontsize=25);\n",
    "    ax.set_ylabel('Actual', fontsize=30);\n",
    "    ax.set_xlabel('Prediction', fontsize=30)\n",
    "    lr_probs = clf.predict_proba(X_test)\n",
    "    lr_probs = lr_probs[:, 1]\n",
    "    lr_precision, lr_recall, _ = precision_recall_curve(y_test, lr_probs)\n",
    "    plt.figure()\n",
    "    plt.plot(lr_recall, lr_precision, marker='.')\n",
    "    plt.xlabel('Recall')\n",
    "    plt.ylabel('Precision')\n",
    "    plt.show()"
   ]
  },
  {
   "cell_type": "code",
   "execution_count": 2,
   "id": "9c086335-8cf2-4401-b31e-2f9a88038865",
   "metadata": {
    "tags": []
   },
   "outputs": [],
   "source": [
    "TEST_FRACTION = .25 #percentage of the test size\n",
    "CV = 7 #cross validations to do in grid search\n",
    "OPT_ON = 'f1' #what to optimize in gridsearches\n",
    "N_JOBS = 7 #number of cores\n",
    "RAND_STATE = 0 #will be doing multiple train-test-splits, and want to keep everything random, but do the same train-test-splits"
   ]
  },
  {
   "cell_type": "markdown",
   "id": "622572a1-3f6f-4712-b1a5-e5fd2eded1f4",
   "metadata": {
    "tags": []
   },
   "source": []
  },
  {
   "cell_type": "code",
   "execution_count": 3,
   "id": "b96f35ef-31e4-4026-8aa3-cfde4a6066ef",
   "metadata": {},
   "outputs": [],
   "source": [
    "import pandas as pd\n",
    "import numpy as np\n",
    "import matplotlib.pyplot as plt\n",
    "import seaborn as sns\n",
    "import gensim\n",
    "from gensim.models.word2vec import Word2Vec\n",
    "from tqdm import tqdm\n",
    "from sklearn.model_selection import train_test_split\n",
    "from sklearn.feature_extraction.text import TfidfVectorizer\n",
    "from nltk.tokenize import TweetTokenizer # a tweet tokenizer from nltk.\n",
    "import tensorflow as tf\n",
    "from tensorflow.keras import layers\n",
    "import nlp\n",
    "tokenizer = TweetTokenizer()"
   ]
  },
  {
   "cell_type": "code",
   "execution_count": 4,
   "id": "f04d5bd9-1358-4333-8ec3-3b9a9f757a13",
   "metadata": {},
   "outputs": [],
   "source": [
    "data = pd.read_csv('data/tweets.csv', encoding = 'Latin-1', names=('sentiment','id','date','flag','username','tweet'))\n",
    "data = data[['sentiment', 'tweet']]"
   ]
  },
  {
   "cell_type": "code",
   "execution_count": 5,
   "id": "ea7af409-1459-42fb-9b59-59800db7e399",
   "metadata": {},
   "outputs": [],
   "source": [
    "data = data.sample(frac=1)\n",
    "#data = data.head(50000)"
   ]
  },
  {
   "cell_type": "code",
   "execution_count": 6,
   "id": "f9e2c020-ad60-4c38-8c6a-a8d1f2346c55",
   "metadata": {},
   "outputs": [],
   "source": [
    "%load_ext tensorboard\n",
    "AUTOTUNE = tf.data.AUTOTUNE"
   ]
  },
  {
   "cell_type": "code",
   "execution_count": null,
   "id": "8f0e4905-7a26-41a3-8a52-52cba5b6e887",
   "metadata": {},
   "outputs": [],
   "source": []
  },
  {
   "cell_type": "code",
   "execution_count": null,
   "id": "e48bd2dd-8886-447e-9090-c127799dcdda",
   "metadata": {},
   "outputs": [],
   "source": []
  },
  {
   "cell_type": "code",
   "execution_count": null,
   "id": "06d43d75-11fa-4adb-81da-f50a9c237fbf",
   "metadata": {},
   "outputs": [],
   "source": []
  },
  {
   "cell_type": "code",
   "execution_count": 7,
   "id": "000eab19-1a5f-4add-8a17-14c4e51271a2",
   "metadata": {},
   "outputs": [],
   "source": [
    "VOCAB_SIZE=10000\n",
    "MAXLEN=50\n",
    "encoder = tf.keras.layers.TextVectorization(max_tokens=VOCAB_SIZE)\n",
    "from tensorflow.keras.preprocessing.sequence import pad_sequences"
   ]
  },
  {
   "cell_type": "code",
   "execution_count": null,
   "id": "9bac96d1-176b-471d-88f5-86fc6f024add",
   "metadata": {},
   "outputs": [],
   "source": []
  },
  {
   "cell_type": "code",
   "execution_count": 8,
   "id": "eafd979a-4217-4dd0-9c9b-116d2282f946",
   "metadata": {},
   "outputs": [],
   "source": [
    "data['sentiment'] = data['sentiment'].apply(lambda x: 1 if x==4 else 0)"
   ]
  },
  {
   "cell_type": "code",
   "execution_count": 9,
   "id": "3888e7ff-35cd-4fbf-ac74-a72b60c63765",
   "metadata": {},
   "outputs": [
    {
     "name": "stderr",
     "output_type": "stream",
     "text": [
      "[nltk_data] Downloading package stopwords to\n",
      "[nltk_data]     /home/jcummings/nltk_data...\n",
      "[nltk_data]   Package stopwords is already up-to-date!\n"
     ]
    }
   ],
   "source": [
    "import nltk, re, string\n",
    "nltk.download(\"stopwords\")\n",
    "def clean_tweet(tweet:str):\n",
    "    #lowercase\n",
    "    tweet = tweet.lower()\n",
    "    #tweet = re.sub(r'https?:\\/\\/.*[\\r\\n]* ', '', str(tweet)) #TODO: fix this link remover, it currently deletes everything beyond the link\n",
    "    tweet = re.sub(r'#', '', str(tweet)) #remove hashtab\n",
    "    \n",
    "    #remove punctuation\n",
    "    punct = set(string.punctuation)\n",
    "    tweet = \"\".join(ch for ch in tweet if ch not in punct)\n",
    "    return tweet"
   ]
  },
  {
   "cell_type": "code",
   "execution_count": 10,
   "id": "34faf481-9a99-46b6-948b-122362c9e31c",
   "metadata": {},
   "outputs": [],
   "source": [
    "data['tweet'] = data['tweet'].apply(clean_tweet)"
   ]
  },
  {
   "cell_type": "code",
   "execution_count": 11,
   "id": "8acd6cd3-033e-4f3a-8ed7-1688784cd9c9",
   "metadata": {},
   "outputs": [],
   "source": [
    "tweets = data['tweet'].to_numpy()\n",
    "sentiments = data['sentiment'].to_numpy()"
   ]
  },
  {
   "cell_type": "code",
   "execution_count": 12,
   "id": "ecec0785-26ce-4ab5-a096-510ba111ff9c",
   "metadata": {},
   "outputs": [],
   "source": [
    "from tensorflow.keras.preprocessing.text import Tokenizer"
   ]
  },
  {
   "cell_type": "code",
   "execution_count": 13,
   "id": "77a3a12a-79a9-4c67-acc3-3aae43e4c033",
   "metadata": {},
   "outputs": [],
   "source": [
    "tokenizer = Tokenizer(num_words=10000, oov_token='<UNK>')"
   ]
  },
  {
   "cell_type": "code",
   "execution_count": 14,
   "id": "e844642e-1385-486c-a7da-b74962dc2cd7",
   "metadata": {},
   "outputs": [],
   "source": [
    "tokenizer.fit_on_texts(tweets)"
   ]
  },
  {
   "cell_type": "code",
   "execution_count": 15,
   "id": "1580d0ed-05fd-4a11-a3e7-a0c4620b81f5",
   "metadata": {},
   "outputs": [
    {
     "data": {
      "text/plain": [
       "<AxesSubplot:ylabel='Count'>"
      ]
     },
     "execution_count": 15,
     "metadata": {},
     "output_type": "execute_result"
    },
    {
     "data": {
      "image/png": "[encoded data removed]",
      "text/plain": [
       "<Figure size 432x288 with 1 Axes>"
      ]
     },
     "metadata": {
      "needs_background": "light"
     },
     "output_type": "display_data"
    }
   ],
   "source": [
    "lengths = [len(t.split(' ')) for t in tweets]\n",
    "sns.histplot(lengths, bins = 20)"
   ]
  },
  {
   "cell_type": "code",
   "execution_count": 16,
   "id": "7be45fc9-27f3-496d-a894-cd59184c94a6",
   "metadata": {},
   "outputs": [],
   "source": [
    "maxlen = 35\n",
    "from tensorflow.keras.preprocessing.sequence import pad_sequences"
   ]
  },
  {
   "cell_type": "code",
   "execution_count": 17,
   "id": "d5924bd2-4062-4e2f-b1c3-d99641d4a9a5",
   "metadata": {},
   "outputs": [],
   "source": [
    "def seq_padder(tokenizer, tweets):\n",
    "    sequences = tokenizer.texts_to_sequences(tweets)\n",
    "    padded = pad_sequences(sequences, truncating='post', padding='post', maxlen=maxlen)\n",
    "    return padded"
   ]
  },
  {
   "cell_type": "code",
   "execution_count": 18,
   "id": "644c740f-c451-4d5c-b84c-52c9d0794e16",
   "metadata": {},
   "outputs": [],
   "source": [
    "padded_tweets = seq_padder(tokenizer, tweets)"
   ]
  },
  {
   "cell_type": "code",
   "execution_count": 25,
   "id": "ce7f144e-dece-4c0e-893f-53ab2d181a36",
   "metadata": {},
   "outputs": [],
   "source": [
    "model = tf.keras.models.Sequential([\n",
    "    tf.keras.layers.Embedding(VOCAB_SIZE, 16, input_length=maxlen),\n",
    "    tf.keras.layers.Dropout(.2),\n",
    "    tf.keras.layers.Bidirectional(tf.keras.layers.LSTM(40, return_sequences=True)),\n",
    "    layers.Dropout(0.2),\n",
    "    tf.keras.layers.Bidirectional(tf.keras.layers.LSTM(40)),\n",
    "    layers.Dropout(0.2),\n",
    "    tf.keras.layers.Dense(1, activation='sigmoid')\n",
    "])"
   ]
  },
  {
   "cell_type": "code",
   "execution_count": 20,
   "id": "7143c59b-26d7-42e5-a774-919ca819bcb3",
   "metadata": {},
   "outputs": [],
   "source": [
    "X_train, X_test, y_train, y_test = train_test_split(padded_tweets, sentiments, test_size=.05)"
   ]
  },
  {
   "cell_type": "code",
   "execution_count": null,
   "id": "16fb350b-69d0-4241-87e1-eb09d243e328",
   "metadata": {},
   "outputs": [],
   "source": []
  },
  {
   "cell_type": "code",
   "execution_count": null,
   "id": "a323f7d7-f44a-48a5-8537-8e59e85ab729",
   "metadata": {},
   "outputs": [],
   "source": []
  },
  {
   "cell_type": "code",
   "execution_count": null,
   "id": "85b02d72-07d1-49bc-b83e-323f82ca0088",
   "metadata": {},
   "outputs": [],
   "source": []
  },
  {
   "cell_type": "code",
   "execution_count": 26,
   "id": "58dcf9bf-a718-4cd4-8f34-81d1f4b68019",
   "metadata": {},
   "outputs": [],
   "source": [
    "model.compile(loss='binary_crossentropy', optimizer='adam', metrics=['accuracy'])"
   ]
  },
  {
   "cell_type": "code",
   "execution_count": null,
   "id": "b1824d78-e92c-4d25-b866-45d7a45f4d16",
   "metadata": {},
   "outputs": [],
   "source": []
  },
  {
   "cell_type": "code",
   "execution_count": 22,
   "id": "a165f2a4-7f55-4e99-8b05-df8344d167b2",
   "metadata": {},
   "outputs": [],
   "source": [
    "# h = model.fit(X_train, y_train, validation_data=(X_test, y_test), epochs=20, \n",
    "#               callbacks=[tf.keras.callbacks.EarlyStopping(monitor='val_accuracy', patience=2)]\n",
    "#              )"
   ]
  },
  {
   "cell_type": "code",
   "execution_count": 27,
   "id": "91a1ed25-0c52-4746-be6c-ab99701225ea",
   "metadata": {},
   "outputs": [
    {
     "name": "stdout",
     "output_type": "stream",
     "text": [
      "<BatchDataset shapes: ((512, 35), (512,)), types: (tf.int32, tf.int64)> <BatchDataset shapes: ((512, 35), (512,)), types: (tf.int32, tf.int64)>\n"
     ]
    }
   ],
   "source": [
    "BATCH_SIZE = 512\n",
    "BUFFER_SIZE = 10000\n",
    "dataset_train = tf.data.Dataset.from_tensor_slices((X_train, y_train))\n",
    "dataset_test = tf.data.Dataset.from_tensor_slices((X_test, y_test))\n",
    "dataset_train = dataset_train.shuffle(BUFFER_SIZE).batch(BATCH_SIZE, drop_remainder=True)\n",
    "dataset_test = dataset_test.shuffle(BUFFER_SIZE).batch(BATCH_SIZE, drop_remainder=True)\n",
    "print(dataset_train, dataset_test)"
   ]
  },
  {
   "cell_type": "code",
   "execution_count": null,
   "id": "b7782280-9389-4bee-a15a-46493f9f5eb5",
   "metadata": {},
   "outputs": [
    {
     "name": "stdout",
     "output_type": "stream",
     "text": [
      "Epoch 1/20\n",
      "2688/2968 [==========================>...] - ETA: 40s - loss: 0.4443 - accuracy: 0.7906"
     ]
    }
   ],
   "source": [
    "h = model.fit(dataset_train, validation_data = dataset_test, epochs=20, \n",
    "              callbacks=[tf.keras.callbacks.EarlyStopping(monitor='accuracy', patience=2)]\n",
    "             )"
   ]
  },
  {
   "cell_type": "code",
   "execution_count": null,
   "id": "65e295b2-ddb2-4589-9a98-9795f6001d9c",
   "metadata": {},
   "outputs": [],
   "source": [
    "loss, accuracy = model.evaluate(X_test, y_test)\n",
    "print('Test accuracy :', accuracy)"
   ]
  },
  {
   "cell_type": "code",
   "execution_count": null,
   "id": "1eec01ef-232a-49f5-a616-3931f4cd7233",
   "metadata": {},
   "outputs": [],
   "source": []
  }
 ],
 "metadata": {
  "kernelspec": {
   "display_name": "Python 3",
   "language": "python",
   "name": "python3"
  },
  "language_info": {
   "codemirror_mode": {
    "name": "ipython",
    "version": 3
   },
   "file_extension": ".py",
   "mimetype": "text/x-python",
   "name": "python",
   "nbconvert_exporter": "python",
   "pygments_lexer": "ipython3",
   "version": "3.6.9"
  }
 },
 "nbformat": 4,
 "nbformat_minor": 5
}
